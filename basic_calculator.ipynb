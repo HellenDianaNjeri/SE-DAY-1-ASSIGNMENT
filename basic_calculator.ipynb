{
  "nbformat": 4,
  "nbformat_minor": 0,
  "metadata": {
    "colab": {
      "provenance": [],
      "authorship_tag": "ABX9TyM1RkhUl+mzD3/wNkQo3bUF",
      "include_colab_link": true
    },
    "kernelspec": {
      "name": "python3",
      "display_name": "Python 3"
    },
    "language_info": {
      "name": "python"
    }
  },
  "cells": [
    {
      "cell_type": "markdown",
      "metadata": {
        "id": "view-in-github",
        "colab_type": "text"
      },
      "source": [
        "<a href=\"https://colab.research.google.com/github/HellenDianaNjeri/SE-DAY-1-ASSIGNMENT/blob/main/basic_calculator.ipynb\" target=\"_parent\"><img src=\"https://colab.research.google.com/assets/colab-badge.svg\" alt=\"Open In Colab\"/></a>"
      ]
    },
    {
      "cell_type": "code",
      "execution_count": 9,
      "metadata": {
        "colab": {
          "base_uri": "https://localhost:8080/"
        },
        "id": "Nij-L9rP5_T_",
        "outputId": "51b7b263-5cfd-4e72-ef17-1ccbb0a77c48"
      },
      "outputs": [
        {
          "output_type": "stream",
          "name": "stdout",
          "text": [
            "first number 10\n",
            "second number 5\n",
            "enter the operation +\n",
            "15.0\n",
            "15\n",
            "5\n",
            "50\n",
            "2.0\n"
          ]
        }
      ],
      "source": [
        "#basic calculator\n",
        "def calculator():\n",
        "   num1=float(input(\"first number \"))\n",
        "#basic calculator\n",
        "def calculator():\n",
        "   num1=float(input(\"first number \"))\n",
        "   num2=float(input(\"second number \"))\n",
        "   operation=input(\"enter the operation \")\n",
        "   if operation == \"+\":\n",
        "     print(num1+num2)\n",
        "   elif operation == \"-\":\n",
        "     print(num1-num2)\n",
        "   elif operation == \"*\":\n",
        "     print(num1*num2)\n",
        "   elif operation == \"/\":\n",
        "     print(num1/num2)\n",
        "   else:\n",
        "     print(\"invalid operation\")\n",
        "calculator()\n",
        "\n",
        "print(num1+num2)\n",
        "print(num1-num2)\n",
        "print(num1*num2)\n",
        "print(num1/num2)"
      ]
    }
  ]
}